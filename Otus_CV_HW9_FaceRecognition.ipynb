{
  "nbformat": 4,
  "nbformat_minor": 0,
  "metadata": {
    "colab": {
      "provenance": []
    },
    "kernelspec": {
      "name": "python3",
      "display_name": "Python 3"
    },
    "language_info": {
      "name": "python"
    },
    "accelerator": "GPU",
    "gpuClass": "standard"
  },
  "cells": [
    {
      "cell_type": "markdown",
      "source": [
        "# Традиционное распознавание лиц проходит через четыре основных этапа: **обнаружение**, **выравнивание**, **извлечение признаков** и **распознавание**."
      ],
      "metadata": {
        "id": "IXFEOU-BCyhv"
      }
    },
    {
      "cell_type": "markdown",
      "source": [
        "Чтобы выполнить первые три шага, мы воcпользуемся библиотекой InsightFace (https://github.com/deepinsight/insightface)."
      ],
      "metadata": {
        "id": "Jn3y7PGNDPX2"
      }
    },
    {
      "cell_type": "code",
      "source": [
        "import os\n",
        "import pickle\n",
        "from PIL import Image\n",
        "import numpy as np\n",
        "from typing import List\n",
        "from tqdm import tqdm\n",
        "\n",
        "!pip install mxnet==1.8.0.post0\n",
        "!pip install -U insightface==0.2.1\n",
        "!pip install onnx==1.10.1\n",
        "!pip install onnxruntime==1.8.1\n",
        "from sklearn.neighbors import NearestNeighbors"
      ],
      "metadata": {
        "id": "EUc759--C6BE"
      },
      "execution_count": null,
      "outputs": []
    },
    {
      "cell_type": "code",
      "source": [
        "import insightface\n",
        "from insightface.app import FaceAnalysis"
      ],
      "metadata": {
        "id": "3viS3k60UiH4"
      },
      "execution_count": null,
      "outputs": []
    },
    {
      "cell_type": "code",
      "source": [
        "!mkdir -p ~/.insightface/models/antelope/"
      ],
      "metadata": {
        "id": "_AGLho_XRxZn"
      },
      "execution_count": null,
      "outputs": []
    },
    {
      "cell_type": "markdown",
      "source": [
        "Библиотека InsightFace уже содержит предобученные модели. Одна из таких моделей - antelope. Она подойдет нам как для обнаружении лица на изображении, так и нахождения эмбеддингов. \n",
        "Загружаем две предварительно обученные модели для обнаружения и распознавания."
      ],
      "metadata": {
        "id": "vVJ-5POVEj1J"
      }
    },
    {
      "cell_type": "code",
      "source": [
        "!unzip /content/drive/MyDrive/antelope.zip > /dev/null\n",
        "!cp /content/antelope/*.onnx ~/.insightface/models/antelope/"
      ],
      "metadata": {
        "id": "YGl1ACF2Yn8W"
      },
      "execution_count": null,
      "outputs": []
    },
    {
      "cell_type": "code",
      "source": [
        "app = FaceAnalysis(name=\"antelope\")\n",
        "app.prepare(ctx_id=0, det_size=(640, 640))"
      ],
      "metadata": {
        "colab": {
          "base_uri": "https://localhost:8080/"
        },
        "id": "_R29C8IsZe2K",
        "outputId": "4d461fea-abd3-4a99-ad17-6b057884cea3"
      },
      "execution_count": null,
      "outputs": [
        {
          "output_type": "stream",
          "name": "stdout",
          "text": [
            "input mean and std: 127.5 127.5\n",
            "find model: /root/.insightface/models/antelope/glintr100.onnx recognition\n",
            "find model: /root/.insightface/models/antelope/scrfd_10g_bnkps.onnx detection\n",
            "set det-size: (640, 640)\n"
          ]
        }
      ]
    },
    {
      "cell_type": "markdown",
      "source": [
        "Загружаем специально отобранную часть датасета LFW:"
      ],
      "metadata": {
        "id": "kRl1X1vbFl5S"
      }
    },
    {
      "cell_type": "code",
      "source": [
        "!unzip /content/drive/MyDrive/lfw-micro-concat.zip > /dev/null"
      ],
      "metadata": {
        "id": "c9Jqp34PcbPF"
      },
      "execution_count": null,
      "outputs": []
    },
    {
      "cell_type": "code",
      "source": [
        "DATA_DIR = '/content/lfw-micro-concat'"
      ],
      "metadata": {
        "id": "uCPS4bQEcmJp"
      },
      "execution_count": null,
      "outputs": []
    },
    {
      "cell_type": "markdown",
      "source": [
        "Вспомогательные функции:"
      ],
      "metadata": {
        "id": "_8KRybxuIxvn"
      }
    },
    {
      "cell_type": "code",
      "source": [
        "def create_probe_eval_set(files: List):\n",
        "    # выбираем случайный индекс между 0 и len(files)-1\n",
        "    random_idx = np.random.randint(0,len(files))\n",
        "    probe_img_fpaths = [files[random_idx]]\n",
        "    eval_img_fpaths = [files[idx] for idx in range(len(files)) if idx != random_idx]\n",
        "    \n",
        "    return probe_img_fpaths, eval_img_fpaths"
      ],
      "metadata": {
        "id": "LR2FVw9Uc4kh"
      },
      "execution_count": null,
      "outputs": []
    },
    {
      "cell_type": "code",
      "source": [
        "# генерируем эмбеддинги\n",
        "def generate_embs(img_fpaths: List[str]):\n",
        "    embs_set = list()\n",
        "    embs_label = list()\n",
        "\n",
        "    for img_fpath in img_fpaths:  \n",
        "                    \n",
        "        img = Image.open(os.path.join(DATA_DIR, img_fpath)) \n",
        "        img_arr = np.asarray(img)        \n",
        "       \n",
        "        # генерируем Insightface эмбеддинги\n",
        "        res = app.get(img_arr)          \n",
        "        embs_set.append(res)          \n",
        "        # добавляем метки\n",
        "        embs_label.append(img_fpath.split(\"_\")[0])          \n",
        "\n",
        "    return embs_set, embs_label"
      ],
      "metadata": {
        "id": "6hVvu4tqc8nG"
      },
      "execution_count": null,
      "outputs": []
    },
    {
      "cell_type": "code",
      "source": [
        "# Иногда InsightFace не может обнаружить лицо и генерирует для него пустой эмбеддинг. \n",
        "# Нужно отфильтровать такие пустые эмбеддинги.\n",
        "def filter_empty_embs(img_set: List, img_labels: List[str]):\n",
        "    good_idx = [i for i,x in enumerate(img_set) if x]\n",
        "    \n",
        "    if len(good_idx) == len(img_set):\n",
        "        clean_embs = [e[0].embedding for e in img_set]\n",
        "        clean_labels = img_labels\n",
        "        \n",
        "    else:\n",
        "        clean_labels = np.array(img_labels)[good_idx]\n",
        "        clean_set = np.array(img_set, dtype=object)[good_idx]\n",
        "        clean_embs = [e[0].embedding for e in clean_set]\n",
        "    \n",
        "    return clean_embs, clean_labels"
      ],
      "metadata": {
        "id": "6iul-E7xdDiv"
      },
      "execution_count": null,
      "outputs": []
    },
    {
      "cell_type": "code",
      "source": [
        "files = os.listdir(DATA_DIR)\n",
        "files.sort()\n",
        "eval_set = list()\n",
        "eval_labels = list()\n",
        "probe_set = list()\n",
        "probe_labels = list()\n",
        "# я взял по 9 фото для каждого человека из LFW (для тех, у кого было по 9 фото и больше)\n",
        "IMAGES_PER_IDENTITY = 9\n",
        "for i in tqdm(range(0, len(files), IMAGES_PER_IDENTITY), unit_divisor=True):\n",
        "    probe, eval = create_probe_eval_set(files[i:i+IMAGES_PER_IDENTITY])\n",
        "    # Генерируем эмбеддинги:\n",
        "    eval_set_t, eval_labels_t = generate_embs(eval)\n",
        "    eval_set.extend(eval_set_t)\n",
        "    eval_labels.extend(eval_labels_t)\n",
        "    \n",
        "    probe_set_t, probe_labels_t = generate_embs(probe)\n",
        "    probe_set.extend(probe_set_t)\n",
        "    probe_labels.extend(probe_labels_t)"
      ],
      "metadata": {
        "colab": {
          "base_uri": "https://localhost:8080/"
        },
        "id": "X4mhphq5dJIj",
        "outputId": "cd3a60da-4ea0-43e0-cf30-de940813230c"
      },
      "execution_count": null,
      "outputs": [
        {
          "output_type": "stream",
          "name": "stderr",
          "text": [
            "100%|██████████| 15/15 [06:36<00:00, 26.45s/it]\n"
          ]
        }
      ]
    },
    {
      "cell_type": "code",
      "source": [
        "assert len(eval_set) == len(eval_labels)\n",
        "assert len(probe_set) == len(probe_labels)"
      ],
      "metadata": {
        "id": "yLuBxgB8g9Y7"
      },
      "execution_count": null,
      "outputs": []
    },
    {
      "cell_type": "code",
      "source": [
        "evaluation_embs, evaluation_labels = filter_empty_embs(eval_set, eval_labels)\n",
        "probe_embs, probe_labels = filter_empty_embs(probe_set, probe_labels)"
      ],
      "metadata": {
        "id": "amE66kbGg_YD"
      },
      "execution_count": null,
      "outputs": []
    },
    {
      "cell_type": "code",
      "source": [
        "assert len(evaluation_embs) == len(evaluation_labels)\n",
        "assert len(probe_embs) == len(probe_labels)"
      ],
      "metadata": {
        "id": "TQCs1advhFS_"
      },
      "execution_count": null,
      "outputs": []
    },
    {
      "cell_type": "code",
      "source": [
        "# Для распознавания будем использовать классификатор kNN с метрикой расстояния 'cosine'\n",
        "nn = NearestNeighbors(n_neighbors=3, metric=\"cosine\")\n",
        "nn.fit(X=evaluation_embs)"
      ],
      "metadata": {
        "colab": {
          "base_uri": "https://localhost:8080/"
        },
        "id": "2L8rIWrLhnZY",
        "outputId": "9412ec91-69eb-4388-c699-2ec1f580a007"
      },
      "execution_count": null,
      "outputs": [
        {
          "output_type": "execute_result",
          "data": {
            "text/plain": [
              "NearestNeighbors(metric='cosine', n_neighbors=3)"
            ]
          },
          "metadata": {},
          "execution_count": 15
        }
      ]
    },
    {
      "cell_type": "code",
      "source": [
        "# Сохраняем модель на диск\n",
        "filename = 'faceID_model.pkl'\n",
        "with open(filename, 'wb') as file:\n",
        "    pickle.dump(nn, file)"
      ],
      "metadata": {
        "id": "T39jEe_7h36v"
      },
      "execution_count": null,
      "outputs": []
    },
    {
      "cell_type": "code",
      "source": [
        "dists, inds = nn.kneighbors(X=probe_embs, n_neighbors=2, return_distance=True)"
      ],
      "metadata": {
        "id": "nH8V1DxGh7m5"
      },
      "execution_count": null,
      "outputs": []
    },
    {
      "cell_type": "code",
      "source": [
        "# Посчитаем метрику p@k (Precision@K)\n",
        "p_at_k = np.zeros(len(probe_embs))\n",
        "for i in range(len(probe_embs)):\n",
        "    true_label = probe_labels[i]\n",
        "    pred_neighbr_idx = inds[i]\n",
        "    \n",
        "    pred_labels = [evaluation_labels[id] for id in pred_neighbr_idx]\n",
        "    pred_is_labels = [1 if label == true_label else 0 for label in pred_labels]\n",
        "    \n",
        "    p_at_k[i] = np.mean(pred_is_labels)\n",
        "    \n",
        "p_at_k.mean()"
      ],
      "metadata": {
        "colab": {
          "base_uri": "https://localhost:8080/"
        },
        "id": "sc8gHZM5iL6l",
        "outputId": "04e16a38-09f3-4bca-fd43-c44d9ecdb7bd"
      },
      "execution_count": null,
      "outputs": [
        {
          "output_type": "execute_result",
          "data": {
            "text/plain": [
              "1.0"
            ]
          },
          "metadata": {},
          "execution_count": 18
        }
      ]
    },
    {
      "cell_type": "code",
      "source": [
        "# Инференс модели\n",
        "def print_ID_results(img_fpath: str, evaluation_labels: np.ndarray, verbose: bool = False):\n",
        "    img = Image.open(img_fpath)\n",
        "    img_emb = app.get(np.asarray(img))[0].embedding\n",
        "    \n",
        "    # получаем предсказание\n",
        "    dists, inds = nn.kneighbors(X=img_emb.reshape(1,-1), n_neighbors=3, return_distance=True)\n",
        "    \n",
        "    # получаем метки\n",
        "    pred_labels = [evaluation_labels[i] for i in inds[0]]\n",
        "    \n",
        "    no_of_matching_faces = np.sum([1 if d <=0.6 else 0 for d in dists[0]])\n",
        "    if no_of_matching_faces > 0:\n",
        "        print(\"Matching face(s) found in database! \")\n",
        "        verbose = True\n",
        "    else: \n",
        "        print(\"No matching face(s) not found in database!\")\n",
        "        \n",
        "    # выводим метки и соответствуюие расстояния\n",
        "    if verbose:\n",
        "        for label, dist in zip(pred_labels, dists[0]):\n",
        "            print(f\"Nearest neighbours found in the database have labels {label} and is at a distance of {dist}\")"
      ],
      "metadata": {
        "id": "kxSCOyR6iOHL"
      },
      "execution_count": null,
      "outputs": []
    },
    {
      "cell_type": "code",
      "source": [
        "# Загружаем фото, которых модель еще не видела\n",
        "!unzip /content/drive/MyDrive/lfw-micro-concat-test.zip > /dev/null"
      ],
      "metadata": {
        "id": "bPHDWa6NlhWh"
      },
      "execution_count": null,
      "outputs": []
    },
    {
      "cell_type": "code",
      "source": [
        "TEST_DIR = '/content/lfw-micro-concat-test'"
      ],
      "metadata": {
        "id": "PhNQQyO3lq0C"
      },
      "execution_count": null,
      "outputs": []
    },
    {
      "cell_type": "code",
      "source": [
        "# Протестируем полученную модель\n",
        "print_ID_results(\"/content/lfw-micro-concat-test/George_HW_Bush_0013.jpg\", evaluation_labels, verbose=True)\n",
        "print_ID_results(\"/content/lfw-micro-concat-test/Britney_Spears_0007.jpg\", evaluation_labels, verbose=True)\n",
        "print_ID_results(\"/content/lfw-micro-concat-test/Kofi_Annan_0023.jpg\", evaluation_labels, verbose=True)\n",
        "print_ID_results(\"/content/lfw-micro-concat-test/Lindsay_Davenport_0020.jpg\", evaluation_labels, verbose=True)\n",
        "print_ID_results(\"/content/lfw-micro-concat-test/Mahmoud_Abbas_0018.jpg\", evaluation_labels, verbose=True)\n",
        "print_ID_results(\"/content/lfw-micro-concat-test/Mahmoud_Abbas_0019.jpg\", evaluation_labels, verbose=True)"
      ],
      "metadata": {
        "colab": {
          "base_uri": "https://localhost:8080/"
        },
        "id": "Q2ggru2yiZE7",
        "outputId": "305dbc1d-045d-4b18-b791-8a97a7f12089"
      },
      "execution_count": null,
      "outputs": [
        {
          "output_type": "stream",
          "name": "stdout",
          "text": [
            "Matching face(s) found in database! \n",
            "Nearest neighbours found in the database have labels George and is at a distance of 1.1920928955078125e-07\n",
            "Nearest neighbours found in the database have labels George and is at a distance of 0.2581465244293213\n",
            "Nearest neighbours found in the database have labels George and is at a distance of 0.28309452533721924\n",
            "Matching face(s) found in database! \n",
            "Nearest neighbours found in the database have labels Britney and is at a distance of 2.980232238769531e-07\n",
            "Nearest neighbours found in the database have labels Britney and is at a distance of 0.21504884958267212\n",
            "Nearest neighbours found in the database have labels Britney and is at a distance of 0.2667282819747925\n",
            "Matching face(s) found in database! \n",
            "Nearest neighbours found in the database have labels Kofi and is at a distance of 0.15446126461029053\n",
            "Nearest neighbours found in the database have labels Kofi and is at a distance of 0.16525983810424805\n",
            "Nearest neighbours found in the database have labels Kofi and is at a distance of 0.21935927867889404\n",
            "Matching face(s) found in database! \n",
            "Nearest neighbours found in the database have labels Lindsay and is at a distance of 0.22763383388519287\n",
            "Nearest neighbours found in the database have labels Lindsay and is at a distance of 0.2572122812271118\n",
            "Nearest neighbours found in the database have labels Lindsay and is at a distance of 0.272241473197937\n",
            "Matching face(s) found in database! \n",
            "Nearest neighbours found in the database have labels Mahmoud and is at a distance of 0.27774256467819214\n",
            "Nearest neighbours found in the database have labels Mahmoud and is at a distance of 0.29482221603393555\n",
            "Nearest neighbours found in the database have labels Mahmoud and is at a distance of 0.3305222988128662\n",
            "Matching face(s) found in database! \n",
            "Nearest neighbours found in the database have labels Mahmoud and is at a distance of 0.23344945907592773\n",
            "Nearest neighbours found in the database have labels Mahmoud and is at a distance of 0.31790101528167725\n",
            "Nearest neighbours found in the database have labels Mahmoud and is at a distance of 0.32251423597335815\n"
          ]
        }
      ]
    },
    {
      "cell_type": "code",
      "source": [],
      "metadata": {
        "id": "vu7CA9zUTdFc"
      },
      "execution_count": null,
      "outputs": []
    }
  ]
}